{
 "cells": [
  {
   "cell_type": "code",
   "execution_count": 1,
   "metadata": {},
   "outputs": [],
   "source": [
    "import pandas as pd"
   ]
  },
  {
   "cell_type": "code",
   "execution_count": 2,
   "metadata": {},
   "outputs": [
    {
     "name": "stdout",
     "output_type": "stream",
     "text": [
      "S&P 500 stock list saved to sp500_list.csv\n"
     ]
    }
   ],
   "source": [
    "filename='sp500_list.csv'\n",
    "# URL to the S&P 500 Wikipedia page\n",
    "url = 'https://en.wikipedia.org/wiki/List_of_S%26P_500_companies'\n",
    "\n",
    "# Read the table from the Wikipedia page\n",
    "tables = pd.read_html(url)\n",
    "sp500_table = tables[0]  # The first table contains the S&P 500 list\n",
    "\n",
    "sp500_table = sp500_table[['Symbol', 'Security', 'GICS Sub-Industry']]\n",
    "sp500_table.columns = ['Ticker', 'Company Name', 'Industry']\n",
    "\n",
    "# Save the table to a CSV file\n",
    "sp500_table.to_csv(filename, index=False)\n",
    "print(f\"S&P 500 stock list saved to {filename}\")"
   ]
  }
 ],
 "metadata": {
  "kernelspec": {
   "display_name": "base",
   "language": "python",
   "name": "python3"
  },
  "language_info": {
   "codemirror_mode": {
    "name": "ipython",
    "version": 3
   },
   "file_extension": ".py",
   "mimetype": "text/x-python",
   "name": "python",
   "nbconvert_exporter": "python",
   "pygments_lexer": "ipython3",
   "version": "3.12.3"
  }
 },
 "nbformat": 4,
 "nbformat_minor": 2
}
