{
 "cells": [
  {
   "cell_type": "code",
   "execution_count": 2,
   "metadata": {},
   "outputs": [
    {
     "name": "stdout",
     "output_type": "stream",
     "text": [
      "Downloading data for MMM...\n"
     ]
    },
    {
     "name": "stderr",
     "output_type": "stream",
     "text": [
      "[*********************100%%**********************]  1 of 1 completed\n",
      "[*********************100%%**********************]  1 of 1 completed\n"
     ]
    },
    {
     "name": "stdout",
     "output_type": "stream",
     "text": [
      "Downloading data for AOS...\n",
      "Downloading data for ABT...\n"
     ]
    },
    {
     "name": "stderr",
     "output_type": "stream",
     "text": [
      "[*********************100%%**********************]  1 of 1 completed\n"
     ]
    },
    {
     "name": "stdout",
     "output_type": "stream",
     "text": [
      "Downloading data for ABBV...\n"
     ]
    },
    {
     "name": "stderr",
     "output_type": "stream",
     "text": [
      "[*********************100%%**********************]  1 of 1 completed\n",
      "[*********************100%%**********************]  1 of 1 completed"
     ]
    },
    {
     "name": "stdout",
     "output_type": "stream",
     "text": [
      "Downloading data for ACN...\n"
     ]
    },
    {
     "name": "stderr",
     "output_type": "stream",
     "text": [
      "\n",
      "[*********************100%%**********************]  1 of 1 completed"
     ]
    },
    {
     "name": "stdout",
     "output_type": "stream",
     "text": [
      "Downloading data for ADBE...\n"
     ]
    },
    {
     "name": "stderr",
     "output_type": "stream",
     "text": [
      "\n",
      "[*********************100%%**********************]  1 of 1 completed\n"
     ]
    },
    {
     "name": "stdout",
     "output_type": "stream",
     "text": [
      "Downloading data for AMD...\n",
      "Downloading data for AES...\n"
     ]
    },
    {
     "name": "stderr",
     "output_type": "stream",
     "text": [
      "[*********************100%%**********************]  1 of 1 completed\n",
      "[*********************100%%**********************]  1 of 1 completed\n"
     ]
    },
    {
     "name": "stdout",
     "output_type": "stream",
     "text": [
      "Downloading data for AFL...\n",
      "Downloading data for A...\n"
     ]
    },
    {
     "name": "stderr",
     "output_type": "stream",
     "text": [
      "[*********************100%%**********************]  1 of 1 completed\n",
      "[*********************100%%**********************]  1 of 1 completed"
     ]
    },
    {
     "name": "stdout",
     "output_type": "stream",
     "text": [
      "Downloading data for APD...\n"
     ]
    },
    {
     "name": "stderr",
     "output_type": "stream",
     "text": [
      "\n",
      "[*********************100%%**********************]  1 of 1 completed\n"
     ]
    },
    {
     "name": "stdout",
     "output_type": "stream",
     "text": [
      "Downloading data for ABNB...\n",
      "Downloading data for AKAM...\n"
     ]
    },
    {
     "name": "stderr",
     "output_type": "stream",
     "text": [
      "[*********************100%%**********************]  1 of 1 completed\n",
      "[*********************100%%**********************]  1 of 1 completed"
     ]
    },
    {
     "name": "stdout",
     "output_type": "stream",
     "text": [
      "Downloading data for ALB...\n"
     ]
    },
    {
     "name": "stderr",
     "output_type": "stream",
     "text": [
      "\n",
      "[*********************100%%**********************]  1 of 1 completed"
     ]
    },
    {
     "name": "stdout",
     "output_type": "stream",
     "text": [
      "Downloading data for ARE...\n"
     ]
    },
    {
     "name": "stderr",
     "output_type": "stream",
     "text": [
      "\n",
      "[*********************100%%**********************]  1 of 1 completed\n"
     ]
    },
    {
     "name": "stdout",
     "output_type": "stream",
     "text": [
      "Downloading data for ALGN...\n",
      "Downloading data for ALLE...\n"
     ]
    },
    {
     "name": "stderr",
     "output_type": "stream",
     "text": [
      "[*********************100%%**********************]  1 of 1 completed\n"
     ]
    },
    {
     "name": "stdout",
     "output_type": "stream",
     "text": [
      "Downloading data for LNT...\n"
     ]
    },
    {
     "name": "stderr",
     "output_type": "stream",
     "text": [
      "[*********************100%%**********************]  1 of 1 completed\n",
      "[*********************100%%**********************]  1 of 1 completed"
     ]
    },
    {
     "name": "stdout",
     "output_type": "stream",
     "text": [
      "Downloading data for ALL...\n"
     ]
    },
    {
     "name": "stderr",
     "output_type": "stream",
     "text": [
      "\n",
      "[*********************100%%**********************]  1 of 1 completed\n"
     ]
    },
    {
     "name": "stdout",
     "output_type": "stream",
     "text": [
      "Downloading data for GOOGL...\n",
      "Downloading data for GOOG...\n"
     ]
    },
    {
     "name": "stderr",
     "output_type": "stream",
     "text": [
      "[*********************100%%**********************]  1 of 1 completed\n"
     ]
    },
    {
     "name": "stdout",
     "output_type": "stream",
     "text": [
      "Downloading data for MO...\n"
     ]
    },
    {
     "name": "stderr",
     "output_type": "stream",
     "text": [
      "[*********************100%%**********************]  1 of 1 completed\n",
      "[*********************100%%**********************]  1 of 1 completed\n"
     ]
    },
    {
     "name": "stdout",
     "output_type": "stream",
     "text": [
      "Downloading data for AMZN...\n",
      "Downloading data for AMCR...\n"
     ]
    },
    {
     "name": "stderr",
     "output_type": "stream",
     "text": [
      "[*********************100%%**********************]  1 of 1 completed\n",
      "[*********************100%%**********************]  1 of 1 completed"
     ]
    },
    {
     "name": "stdout",
     "output_type": "stream",
     "text": [
      "Downloading data for AEE...\n"
     ]
    },
    {
     "name": "stderr",
     "output_type": "stream",
     "text": [
      "\n",
      "[*********************100%%**********************]  1 of 1 completed\n"
     ]
    },
    {
     "name": "stdout",
     "output_type": "stream",
     "text": [
      "Downloading data for AAL...\n",
      "Downloading data for AEP...\n"
     ]
    },
    {
     "name": "stderr",
     "output_type": "stream",
     "text": [
      "[*********************100%%**********************]  1 of 1 completed\n"
     ]
    },
    {
     "name": "stdout",
     "output_type": "stream",
     "text": [
      "Downloading data for AXP...\n"
     ]
    },
    {
     "name": "stderr",
     "output_type": "stream",
     "text": [
      "[*********************100%%**********************]  1 of 1 completed\n",
      "[*********************100%%**********************]  1 of 1 completed\n"
     ]
    },
    {
     "name": "stdout",
     "output_type": "stream",
     "text": [
      "Downloading data for AIG...\n",
      "Downloading data for AMT...\n"
     ]
    },
    {
     "name": "stderr",
     "output_type": "stream",
     "text": [
      "[*********************100%%**********************]  1 of 1 completed\n"
     ]
    },
    {
     "name": "stdout",
     "output_type": "stream",
     "text": [
      "Adjusted data for MMM saved as MMM_3mo_adjusted.csv\n",
      "Adjusted data for AOS saved as AOS_3mo_adjusted.csv\n",
      "Adjusted data for ABT saved as ABT_3mo_adjusted.csv\n",
      "Adjusted data for ABBV saved as ABBV_3mo_adjusted.csv\n",
      "Adjusted data for ACN saved as ACN_3mo_adjusted.csv\n",
      "Adjusted data for ADBE saved as ADBE_3mo_adjusted.csv\n",
      "Adjusted data for AMD saved as AMD_3mo_adjusted.csv\n",
      "Adjusted data for AES saved as AES_3mo_adjusted.csv\n",
      "Adjusted data for AFL saved as AFL_3mo_adjusted.csv\n",
      "Adjusted data for A saved as A_3mo_adjusted.csv\n",
      "Adjusted data for APD saved as APD_3mo_adjusted.csv\n",
      "Adjusted data for ABNB saved as ABNB_3mo_adjusted.csv\n",
      "Adjusted data for AKAM saved as AKAM_3mo_adjusted.csv\n",
      "Adjusted data for ALB saved as ALB_3mo_adjusted.csv\n",
      "Adjusted data for ARE saved as ARE_3mo_adjusted.csv\n",
      "Adjusted data for ALGN saved as ALGN_3mo_adjusted.csv\n",
      "Adjusted data for ALLE saved as ALLE_3mo_adjusted.csv\n",
      "Adjusted data for LNT saved as LNT_3mo_adjusted.csv\n",
      "Adjusted data for ALL saved as ALL_3mo_adjusted.csv\n",
      "Adjusted data for GOOGL saved as GOOGL_3mo_adjusted.csv\n",
      "Adjusted data for GOOG saved as GOOG_3mo_adjusted.csv\n",
      "Adjusted data for MO saved as MO_3mo_adjusted.csv\n",
      "Adjusted data for AMZN saved as AMZN_3mo_adjusted.csv\n",
      "Adjusted data for AMCR saved as AMCR_3mo_adjusted.csv\n",
      "Adjusted data for AEE saved as AEE_3mo_adjusted.csv\n",
      "Adjusted data for AAL saved as AAL_3mo_adjusted.csv\n",
      "Adjusted data for AEP saved as AEP_3mo_adjusted.csv\n",
      "Adjusted data for AXP saved as AXP_3mo_adjusted.csv\n",
      "Adjusted data for AIG saved as AIG_3mo_adjusted.csv\n",
      "Adjusted data for AMT saved as AMT_3mo_adjusted.csv\n",
      "Downloaded, adjusted, and saved historical data for all tickers.\n"
     ]
    }
   ],
   "source": [
    "import pandas as pd\n",
    "import yfinance as yf\n",
    "\n",
    "# Load the S&P 500 stock list\n",
    "# sp500_df = pd.read_csv('sp500_list.csv')\n",
    "sp500_df = pd.read_csv('sp500_list.csv')[:30] # For testing\n",
    "\n",
    "# Initialize an empty dictionary to store the data\n",
    "historical_data = {}\n",
    "\n",
    "# Loop through each ticker and download 3 months of historical data\n",
    "for ticker in sp500_df['Ticker']:\n",
    "    print(f\"Downloading data for {ticker}...\")\n",
    "    try:\n",
    "        #Download data\n",
    "        stock_data = yf.download(ticker, period=\"3mo\", interval=\"1d\")\n",
    "\n",
    "        # Calculate the adjustment factor (Close / Adj Close)\n",
    "        stock_data['Adjustment Factor'] = stock_data['Close'] / stock_data['Adj Close']\n",
    "\n",
    "        # Apply the adjustment factor to Open, High, Low, and overwrite Close\n",
    "        stock_data['Open'] = stock_data['Open'] / stock_data['Adjustment Factor']\n",
    "        stock_data['High'] = stock_data['High'] / stock_data['Adjustment Factor']\n",
    "        stock_data['Low'] = stock_data['Low'] / stock_data['Adjustment Factor']\n",
    "        stock_data['Close'] = stock_data['Adj Close']  # Overwrite with Adjusted Close\n",
    "\n",
    "        # Only keep the relevant columns: Ticker, Date, Open, High, Low, Close, Volume\n",
    "        stock_data['Ticker'] = ticker  # Add ticker to the DataFrame\n",
    "        stock_data = stock_data[['Ticker', 'Open', 'High', 'Low', 'Close', 'Volume']]\n",
    "\n",
    "        # Save to the dictionary\n",
    "        historical_data[ticker] = stock_data\n",
    "\n",
    "    except Exception as e:\n",
    "        print(f\"Error downloading data for {ticker}: {e}\")\n",
    "\n",
    "# Save the adjusted historical data to CSV files\n",
    "for ticker, data in historical_data.items():\n",
    "    data.to_csv(f'{ticker}_3mo_adjusted.csv')\n",
    "    print(f\"Adjusted data for {ticker} saved as {ticker}_3mo_adjusted.csv\")\n",
    "\n",
    "print(\"Downloaded, adjusted, and saved historical data for all tickers.\")\n"
   ]
  },
  {
   "cell_type": "code",
   "execution_count": null,
   "metadata": {},
   "outputs": [],
   "source": []
  }
 ],
 "metadata": {
  "kernelspec": {
   "display_name": "base",
   "language": "python",
   "name": "python3"
  },
  "language_info": {
   "codemirror_mode": {
    "name": "ipython",
    "version": 3
   },
   "file_extension": ".py",
   "mimetype": "text/x-python",
   "name": "python",
   "nbconvert_exporter": "python",
   "pygments_lexer": "ipython3",
   "version": "3.12.3"
  }
 },
 "nbformat": 4,
 "nbformat_minor": 2
}
